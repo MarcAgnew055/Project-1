{
 "cells": [
  {
   "cell_type": "code",
   "execution_count": 153,
   "id": "549a65b0",
   "metadata": {},
   "outputs": [],
   "source": [
    "# Initial imports\n",
    "import os\n",
    "import requests\n",
    "import pandas as pd\n",
    "from dotenv import load_dotenv\n",
    "import alpaca_trade_api as tradeapi\n",
    "from alpaca_trade_api.rest import REST, TimeFrame\n",
    "import pandas as pd\n",
    "\n",
    "%matplotlib inline"
   ]
  },
  {
   "cell_type": "code",
   "execution_count": 154,
   "id": "133796e6",
   "metadata": {},
   "outputs": [
    {
     "data": {
      "text/plain": [
       "True"
      ]
     },
     "execution_count": 154,
     "metadata": {},
     "output_type": "execute_result"
    }
   ],
   "source": [
    "# Load .env enviroment variables\n",
    "load_dotenv()"
   ]
  },
  {
   "cell_type": "code",
   "execution_count": 155,
   "id": "292c9b6a",
   "metadata": {},
   "outputs": [],
   "source": [
    "alpaca_api_key = os.getenv(\"ALPACA_API_KEY\")\n",
    "alpaca_code = os.getenv(\"ALPACA_CODE\")\n",
    "\n",
    "# Create the Alpaca API object\n",
    "api = tradeapi.REST(\n",
    "    alpaca_api_key,\n",
    "    alpaca_code,\n",
    "    api_version = \"v2\"\n",
    ")"
   ]
  },
  {
   "cell_type": "code",
   "execution_count": 156,
   "id": "ff2de881",
   "metadata": {},
   "outputs": [],
   "source": [
    "api = REST(key_id=alpaca_api_key,secret_key=alpaca_code,base_url=\"https://paper-api.alpaca.markets\")"
   ]
  },
  {
   "cell_type": "code",
   "execution_count": 157,
   "id": "17cde4d1",
   "metadata": {},
   "outputs": [],
   "source": [
    "btcbars = api.get_crypto_bars(\"BTCUSD\", TimeFrame.Day, \"2021-01-25\", \"2022-04-01\").df"
   ]
  },
  {
   "cell_type": "code",
   "execution_count": 158,
   "id": "97cd40d7",
   "metadata": {},
   "outputs": [
    {
     "data": {
      "text/html": [
       "<div>\n",
       "<style scoped>\n",
       "    .dataframe tbody tr th:only-of-type {\n",
       "        vertical-align: middle;\n",
       "    }\n",
       "\n",
       "    .dataframe tbody tr th {\n",
       "        vertical-align: top;\n",
       "    }\n",
       "\n",
       "    .dataframe thead th {\n",
       "        text-align: right;\n",
       "    }\n",
       "</style>\n",
       "<table border=\"1\" class=\"dataframe\">\n",
       "  <thead>\n",
       "    <tr style=\"text-align: right;\">\n",
       "      <th></th>\n",
       "      <th>BTC_close</th>\n",
       "    </tr>\n",
       "    <tr>\n",
       "      <th>timestamp</th>\n",
       "      <th></th>\n",
       "    </tr>\n",
       "  </thead>\n",
       "  <tbody>\n",
       "    <tr>\n",
       "      <th>2021-01-25</th>\n",
       "      <td>32090.10</td>\n",
       "    </tr>\n",
       "    <tr>\n",
       "      <th>2021-01-25</th>\n",
       "      <td>32287.00</td>\n",
       "    </tr>\n",
       "    <tr>\n",
       "      <th>2021-01-26</th>\n",
       "      <td>31551.72</td>\n",
       "    </tr>\n",
       "    <tr>\n",
       "      <th>2021-01-26</th>\n",
       "      <td>31526.00</td>\n",
       "    </tr>\n",
       "    <tr>\n",
       "      <th>2021-01-27</th>\n",
       "      <td>30407.13</td>\n",
       "    </tr>\n",
       "  </tbody>\n",
       "</table>\n",
       "</div>"
      ],
      "text/plain": [
       "            BTC_close\n",
       "timestamp            \n",
       "2021-01-25   32090.10\n",
       "2021-01-25   32287.00\n",
       "2021-01-26   31551.72\n",
       "2021-01-26   31526.00\n",
       "2021-01-27   30407.13"
      ]
     },
     "execution_count": 158,
     "metadata": {},
     "output_type": "execute_result"
    }
   ],
   "source": [
    "btcbars.drop(columns = ['exchange', 'open', 'high', 'low', 'volume', 'trade_count', 'vwap'], inplace=True)\n",
    "btcbars = btcbars.rename(columns={\n",
    "    \"close\": \"BTC_close\"\n",
    "})\n",
    "btcbars['timestamp'] = btcbars.index.date\n",
    "btcbars = btcbars.set_index(btcbars['timestamp'])\n",
    "btcbars.drop(columns = ['timestamp'], inplace=True)\n",
    "\n",
    "                               \n",
    "btcbars.head()"
   ]
  },
  {
   "cell_type": "code",
   "execution_count": 159,
   "id": "f4198333",
   "metadata": {},
   "outputs": [],
   "source": [
    "ethbars = api.get_crypto_bars(\"ETHUSD\", TimeFrame.Day, \"2021-01-25\", \"2022-04-01\").df"
   ]
  },
  {
   "cell_type": "code",
   "execution_count": 160,
   "id": "b3323349",
   "metadata": {},
   "outputs": [
    {
     "data": {
      "text/html": [
       "<div>\n",
       "<style scoped>\n",
       "    .dataframe tbody tr th:only-of-type {\n",
       "        vertical-align: middle;\n",
       "    }\n",
       "\n",
       "    .dataframe tbody tr th {\n",
       "        vertical-align: top;\n",
       "    }\n",
       "\n",
       "    .dataframe thead th {\n",
       "        text-align: right;\n",
       "    }\n",
       "</style>\n",
       "<table border=\"1\" class=\"dataframe\">\n",
       "  <thead>\n",
       "    <tr style=\"text-align: right;\">\n",
       "      <th></th>\n",
       "      <th>ETH_close</th>\n",
       "    </tr>\n",
       "    <tr>\n",
       "      <th>timestamp</th>\n",
       "      <th></th>\n",
       "    </tr>\n",
       "  </thead>\n",
       "  <tbody>\n",
       "    <tr>\n",
       "      <th>2021-01-25</th>\n",
       "      <td>1317.97</td>\n",
       "    </tr>\n",
       "    <tr>\n",
       "      <th>2021-01-25</th>\n",
       "      <td>1341.80</td>\n",
       "    </tr>\n",
       "    <tr>\n",
       "      <th>2021-01-26</th>\n",
       "      <td>1286.15</td>\n",
       "    </tr>\n",
       "    <tr>\n",
       "      <th>2021-01-26</th>\n",
       "      <td>1282.00</td>\n",
       "    </tr>\n",
       "    <tr>\n",
       "      <th>2021-01-27</th>\n",
       "      <td>1240.96</td>\n",
       "    </tr>\n",
       "  </tbody>\n",
       "</table>\n",
       "</div>"
      ],
      "text/plain": [
       "            ETH_close\n",
       "timestamp            \n",
       "2021-01-25    1317.97\n",
       "2021-01-25    1341.80\n",
       "2021-01-26    1286.15\n",
       "2021-01-26    1282.00\n",
       "2021-01-27    1240.96"
      ]
     },
     "execution_count": 160,
     "metadata": {},
     "output_type": "execute_result"
    }
   ],
   "source": [
    "ethbars.drop(columns = ['exchange', 'open', 'high', 'low', 'volume', 'trade_count', 'vwap'], inplace=True)\n",
    "ethbars = ethbars.rename(columns={\n",
    "    \"close\": \"ETH_close\"\n",
    "})\n",
    "ethbars['timestamp'] = ethbars.index.date\n",
    "ethbars = ethbars.set_index(ethbars['timestamp'])\n",
    "ethbars.drop(columns = ['timestamp'], inplace=True)\n",
    "\n",
    "                               \n",
    "ethbars.head()"
   ]
  },
  {
   "cell_type": "code",
   "execution_count": 161,
   "id": "90ebfee6",
   "metadata": {},
   "outputs": [],
   "source": [
    "solbars = api.get_crypto_bars(\"SOLUSD\", TimeFrame.Day, \"2021-01-25\", \"2022-04-01\").df"
   ]
  },
  {
   "cell_type": "code",
   "execution_count": 162,
   "id": "ace158f6",
   "metadata": {},
   "outputs": [
    {
     "data": {
      "text/html": [
       "<div>\n",
       "<style scoped>\n",
       "    .dataframe tbody tr th:only-of-type {\n",
       "        vertical-align: middle;\n",
       "    }\n",
       "\n",
       "    .dataframe tbody tr th {\n",
       "        vertical-align: top;\n",
       "    }\n",
       "\n",
       "    .dataframe thead th {\n",
       "        text-align: right;\n",
       "    }\n",
       "</style>\n",
       "<table border=\"1\" class=\"dataframe\">\n",
       "  <thead>\n",
       "    <tr style=\"text-align: right;\">\n",
       "      <th></th>\n",
       "      <th>SOL_close</th>\n",
       "    </tr>\n",
       "    <tr>\n",
       "      <th>timestamp</th>\n",
       "      <th></th>\n",
       "    </tr>\n",
       "  </thead>\n",
       "  <tbody>\n",
       "    <tr>\n",
       "      <th>2021-01-25</th>\n",
       "      <td>3.8050</td>\n",
       "    </tr>\n",
       "    <tr>\n",
       "      <th>2021-01-26</th>\n",
       "      <td>3.7500</td>\n",
       "    </tr>\n",
       "    <tr>\n",
       "      <th>2021-01-27</th>\n",
       "      <td>3.7450</td>\n",
       "    </tr>\n",
       "    <tr>\n",
       "      <th>2021-01-28</th>\n",
       "      <td>3.6900</td>\n",
       "    </tr>\n",
       "    <tr>\n",
       "      <th>2021-01-29</th>\n",
       "      <td>3.8325</td>\n",
       "    </tr>\n",
       "  </tbody>\n",
       "</table>\n",
       "</div>"
      ],
      "text/plain": [
       "            SOL_close\n",
       "timestamp            \n",
       "2021-01-25     3.8050\n",
       "2021-01-26     3.7500\n",
       "2021-01-27     3.7450\n",
       "2021-01-28     3.6900\n",
       "2021-01-29     3.8325"
      ]
     },
     "execution_count": 162,
     "metadata": {},
     "output_type": "execute_result"
    }
   ],
   "source": [
    "solbars.drop(columns = ['exchange', 'open', 'high', 'low', 'volume', 'trade_count', 'vwap'], inplace=True)\n",
    "solbars = solbars.rename(columns={\n",
    "    \"close\": \"SOL_close\"\n",
    "})\n",
    "solbars['timestamp'] = solbars.index.date\n",
    "solbars = solbars.set_index(solbars['timestamp'])\n",
    "solbars.drop(columns = ['timestamp'], inplace=True)\n",
    "\n",
    "                               \n",
    "solbars.head()"
   ]
  },
  {
   "cell_type": "code",
   "execution_count": 163,
   "id": "f85cffd0",
   "metadata": {},
   "outputs": [],
   "source": [
    "bchbars = api.get_crypto_bars(\"BCHUSD\", TimeFrame.Day, \"2021-01-25\", \"2022-04-01\").df"
   ]
  },
  {
   "cell_type": "code",
   "execution_count": 164,
   "id": "119aae41",
   "metadata": {},
   "outputs": [
    {
     "data": {
      "text/html": [
       "<div>\n",
       "<style scoped>\n",
       "    .dataframe tbody tr th:only-of-type {\n",
       "        vertical-align: middle;\n",
       "    }\n",
       "\n",
       "    .dataframe tbody tr th {\n",
       "        vertical-align: top;\n",
       "    }\n",
       "\n",
       "    .dataframe thead th {\n",
       "        text-align: right;\n",
       "    }\n",
       "</style>\n",
       "<table border=\"1\" class=\"dataframe\">\n",
       "  <thead>\n",
       "    <tr style=\"text-align: right;\">\n",
       "      <th></th>\n",
       "      <th>BCH_close</th>\n",
       "    </tr>\n",
       "    <tr>\n",
       "      <th>timestamp</th>\n",
       "      <th></th>\n",
       "    </tr>\n",
       "  </thead>\n",
       "  <tbody>\n",
       "    <tr>\n",
       "      <th>2021-01-25</th>\n",
       "      <td>432.260</td>\n",
       "    </tr>\n",
       "    <tr>\n",
       "      <th>2021-01-25</th>\n",
       "      <td>429.450</td>\n",
       "    </tr>\n",
       "    <tr>\n",
       "      <th>2021-01-26</th>\n",
       "      <td>407.240</td>\n",
       "    </tr>\n",
       "    <tr>\n",
       "      <th>2021-01-26</th>\n",
       "      <td>407.725</td>\n",
       "    </tr>\n",
       "    <tr>\n",
       "      <th>2021-01-27</th>\n",
       "      <td>395.250</td>\n",
       "    </tr>\n",
       "  </tbody>\n",
       "</table>\n",
       "</div>"
      ],
      "text/plain": [
       "            BCH_close\n",
       "timestamp            \n",
       "2021-01-25    432.260\n",
       "2021-01-25    429.450\n",
       "2021-01-26    407.240\n",
       "2021-01-26    407.725\n",
       "2021-01-27    395.250"
      ]
     },
     "execution_count": 164,
     "metadata": {},
     "output_type": "execute_result"
    }
   ],
   "source": [
    "bchbars.drop(columns = ['exchange', 'open', 'high', 'low', 'volume', 'trade_count', 'vwap'], inplace=True)\n",
    "bchbars = bchbars.rename(columns={\n",
    "    \"close\": \"BCH_close\"\n",
    "})\n",
    "bchbars['timestamp'] = bchbars.index.date\n",
    "bchbars = bchbars.set_index(bchbars['timestamp'])\n",
    "bchbars.drop(columns = ['timestamp'], inplace=True)\n",
    "\n",
    "                               \n",
    "bchbars.head()"
   ]
  },
  {
   "cell_type": "code",
   "execution_count": 165,
   "id": "220e3930",
   "metadata": {},
   "outputs": [],
   "source": [
    "dogebars = api.get_crypto_bars(\"DOGEUSD\", TimeFrame.Day, \"2021-01-25\", \"2022-04-01\").df"
   ]
  },
  {
   "cell_type": "code",
   "execution_count": 166,
   "id": "507d1852",
   "metadata": {},
   "outputs": [
    {
     "data": {
      "text/html": [
       "<div>\n",
       "<style scoped>\n",
       "    .dataframe tbody tr th:only-of-type {\n",
       "        vertical-align: middle;\n",
       "    }\n",
       "\n",
       "    .dataframe tbody tr th {\n",
       "        vertical-align: top;\n",
       "    }\n",
       "\n",
       "    .dataframe thead th {\n",
       "        text-align: right;\n",
       "    }\n",
       "</style>\n",
       "<table border=\"1\" class=\"dataframe\">\n",
       "  <thead>\n",
       "    <tr style=\"text-align: right;\">\n",
       "      <th></th>\n",
       "      <th>DOGE_close</th>\n",
       "    </tr>\n",
       "    <tr>\n",
       "      <th>timestamp</th>\n",
       "      <th></th>\n",
       "    </tr>\n",
       "  </thead>\n",
       "  <tbody>\n",
       "    <tr>\n",
       "      <th>2021-01-25</th>\n",
       "      <td>0.008757</td>\n",
       "    </tr>\n",
       "    <tr>\n",
       "      <th>2021-01-26</th>\n",
       "      <td>0.008286</td>\n",
       "    </tr>\n",
       "    <tr>\n",
       "      <th>2021-01-27</th>\n",
       "      <td>0.012099</td>\n",
       "    </tr>\n",
       "    <tr>\n",
       "      <th>2021-01-28</th>\n",
       "      <td>0.070000</td>\n",
       "    </tr>\n",
       "    <tr>\n",
       "      <th>2021-01-29</th>\n",
       "      <td>0.032429</td>\n",
       "    </tr>\n",
       "  </tbody>\n",
       "</table>\n",
       "</div>"
      ],
      "text/plain": [
       "            DOGE_close\n",
       "timestamp             \n",
       "2021-01-25    0.008757\n",
       "2021-01-26    0.008286\n",
       "2021-01-27    0.012099\n",
       "2021-01-28    0.070000\n",
       "2021-01-29    0.032429"
      ]
     },
     "execution_count": 166,
     "metadata": {},
     "output_type": "execute_result"
    }
   ],
   "source": [
    "dogebars.drop(columns = ['exchange', 'open', 'high', 'low', 'volume', 'trade_count', 'vwap'], inplace=True)\n",
    "dogebars = dogebars.rename(columns={\n",
    "    \"close\": \"DOGE_close\"\n",
    "})\n",
    "dogebars['timestamp'] = dogebars.index.date\n",
    "dogebars = dogebars.set_index(dogebars['timestamp'])\n",
    "dogebars.drop(columns = ['timestamp'], inplace=True)\n",
    "\n",
    "                               \n",
    "dogebars.head()"
   ]
  },
  {
   "cell_type": "code",
   "execution_count": 167,
   "id": "ee421376",
   "metadata": {},
   "outputs": [],
   "source": [
    "linkbars = api.get_crypto_bars(\"LINKUSD\", TimeFrame.Day, \"2021-01-25\", \"2022-04-01\").df"
   ]
  },
  {
   "cell_type": "code",
   "execution_count": 168,
   "id": "6437fd02",
   "metadata": {},
   "outputs": [
    {
     "data": {
      "text/html": [
       "<div>\n",
       "<style scoped>\n",
       "    .dataframe tbody tr th:only-of-type {\n",
       "        vertical-align: middle;\n",
       "    }\n",
       "\n",
       "    .dataframe tbody tr th {\n",
       "        vertical-align: top;\n",
       "    }\n",
       "\n",
       "    .dataframe thead th {\n",
       "        text-align: right;\n",
       "    }\n",
       "</style>\n",
       "<table border=\"1\" class=\"dataframe\">\n",
       "  <thead>\n",
       "    <tr style=\"text-align: right;\">\n",
       "      <th></th>\n",
       "      <th>LINK_close</th>\n",
       "    </tr>\n",
       "    <tr>\n",
       "      <th>timestamp</th>\n",
       "      <th></th>\n",
       "    </tr>\n",
       "  </thead>\n",
       "  <tbody>\n",
       "    <tr>\n",
       "      <th>2021-01-25</th>\n",
       "      <td>23.3285</td>\n",
       "    </tr>\n",
       "    <tr>\n",
       "      <th>2021-01-26</th>\n",
       "      <td>22.1665</td>\n",
       "    </tr>\n",
       "    <tr>\n",
       "      <th>2021-01-27</th>\n",
       "      <td>23.5000</td>\n",
       "    </tr>\n",
       "    <tr>\n",
       "      <th>2021-01-28</th>\n",
       "      <td>22.1650</td>\n",
       "    </tr>\n",
       "    <tr>\n",
       "      <th>2021-01-29</th>\n",
       "      <td>22.3095</td>\n",
       "    </tr>\n",
       "  </tbody>\n",
       "</table>\n",
       "</div>"
      ],
      "text/plain": [
       "            LINK_close\n",
       "timestamp             \n",
       "2021-01-25     23.3285\n",
       "2021-01-26     22.1665\n",
       "2021-01-27     23.5000\n",
       "2021-01-28     22.1650\n",
       "2021-01-29     22.3095"
      ]
     },
     "execution_count": 168,
     "metadata": {},
     "output_type": "execute_result"
    }
   ],
   "source": [
    "linkbars.drop(columns = ['exchange', 'open', 'high', 'low', 'volume', 'trade_count', 'vwap'], inplace=True)\n",
    "linkbars = linkbars.rename(columns={\n",
    "    \"close\": \"LINK_close\"\n",
    "})\n",
    "linkbars['timestamp'] = linkbars.index.date\n",
    "linkbars = linkbars.set_index(linkbars['timestamp'])\n",
    "linkbars.drop(columns = ['timestamp'], inplace=True)\n",
    "\n",
    "                               \n",
    "linkbars.head()"
   ]
  },
  {
   "cell_type": "code",
   "execution_count": 169,
   "id": "e93bc375",
   "metadata": {},
   "outputs": [],
   "source": [
    "ltcbars = api.get_crypto_bars(\"ETHUSD\", TimeFrame.Day, \"2021-01-25\", \"2022-04-01\").df"
   ]
  },
  {
   "cell_type": "code",
   "execution_count": 170,
   "id": "198b1d66",
   "metadata": {},
   "outputs": [
    {
     "data": {
      "text/html": [
       "<div>\n",
       "<style scoped>\n",
       "    .dataframe tbody tr th:only-of-type {\n",
       "        vertical-align: middle;\n",
       "    }\n",
       "\n",
       "    .dataframe tbody tr th {\n",
       "        vertical-align: top;\n",
       "    }\n",
       "\n",
       "    .dataframe thead th {\n",
       "        text-align: right;\n",
       "    }\n",
       "</style>\n",
       "<table border=\"1\" class=\"dataframe\">\n",
       "  <thead>\n",
       "    <tr style=\"text-align: right;\">\n",
       "      <th></th>\n",
       "      <th>LTC_close</th>\n",
       "    </tr>\n",
       "    <tr>\n",
       "      <th>timestamp</th>\n",
       "      <th></th>\n",
       "    </tr>\n",
       "  </thead>\n",
       "  <tbody>\n",
       "    <tr>\n",
       "      <th>2021-01-25</th>\n",
       "      <td>1317.97</td>\n",
       "    </tr>\n",
       "    <tr>\n",
       "      <th>2021-01-25</th>\n",
       "      <td>1341.80</td>\n",
       "    </tr>\n",
       "    <tr>\n",
       "      <th>2021-01-26</th>\n",
       "      <td>1286.15</td>\n",
       "    </tr>\n",
       "    <tr>\n",
       "      <th>2021-01-26</th>\n",
       "      <td>1282.00</td>\n",
       "    </tr>\n",
       "    <tr>\n",
       "      <th>2021-01-27</th>\n",
       "      <td>1240.96</td>\n",
       "    </tr>\n",
       "  </tbody>\n",
       "</table>\n",
       "</div>"
      ],
      "text/plain": [
       "            LTC_close\n",
       "timestamp            \n",
       "2021-01-25    1317.97\n",
       "2021-01-25    1341.80\n",
       "2021-01-26    1286.15\n",
       "2021-01-26    1282.00\n",
       "2021-01-27    1240.96"
      ]
     },
     "execution_count": 170,
     "metadata": {},
     "output_type": "execute_result"
    }
   ],
   "source": [
    "ltcbars.drop(columns = ['exchange', 'open', 'high', 'low', 'volume', 'trade_count', 'vwap'], inplace=True)\n",
    "ltcbars = ltcbars.rename(columns={\n",
    "    \"close\": \"LTC_close\"\n",
    "})\n",
    "ltcbars['timestamp'] = ltcbars.index.date\n",
    "ltcbars = ltcbars.set_index(ltcbars['timestamp'])\n",
    "ltcbars.drop(columns = ['timestamp'], inplace=True)\n",
    "\n",
    "                               \n",
    "ltcbars.head()"
   ]
  },
  {
   "cell_type": "code",
   "execution_count": 171,
   "id": "4b33e130",
   "metadata": {},
   "outputs": [],
   "source": [
    "trxbars = api.get_crypto_bars(\"TRXUSD\", TimeFrame.Day, \"2021-01-25\", \"2022-04-01\").df"
   ]
  },
  {
   "cell_type": "code",
   "execution_count": 172,
   "id": "8b9e94ed",
   "metadata": {},
   "outputs": [
    {
     "data": {
      "text/html": [
       "<div>\n",
       "<style scoped>\n",
       "    .dataframe tbody tr th:only-of-type {\n",
       "        vertical-align: middle;\n",
       "    }\n",
       "\n",
       "    .dataframe tbody tr th {\n",
       "        vertical-align: top;\n",
       "    }\n",
       "\n",
       "    .dataframe thead th {\n",
       "        text-align: right;\n",
       "    }\n",
       "</style>\n",
       "<table border=\"1\" class=\"dataframe\">\n",
       "  <thead>\n",
       "    <tr style=\"text-align: right;\">\n",
       "      <th></th>\n",
       "      <th>TRX_close</th>\n",
       "    </tr>\n",
       "    <tr>\n",
       "      <th>timestamp</th>\n",
       "      <th></th>\n",
       "    </tr>\n",
       "  </thead>\n",
       "  <tbody>\n",
       "    <tr>\n",
       "      <th>2021-01-25</th>\n",
       "      <td>0.029612</td>\n",
       "    </tr>\n",
       "    <tr>\n",
       "      <th>2021-01-26</th>\n",
       "      <td>0.028700</td>\n",
       "    </tr>\n",
       "    <tr>\n",
       "      <th>2021-01-27</th>\n",
       "      <td>0.028735</td>\n",
       "    </tr>\n",
       "    <tr>\n",
       "      <th>2021-01-28</th>\n",
       "      <td>0.030818</td>\n",
       "    </tr>\n",
       "    <tr>\n",
       "      <th>2021-01-29</th>\n",
       "      <td>0.031775</td>\n",
       "    </tr>\n",
       "  </tbody>\n",
       "</table>\n",
       "</div>"
      ],
      "text/plain": [
       "            TRX_close\n",
       "timestamp            \n",
       "2021-01-25   0.029612\n",
       "2021-01-26   0.028700\n",
       "2021-01-27   0.028735\n",
       "2021-01-28   0.030818\n",
       "2021-01-29   0.031775"
      ]
     },
     "execution_count": 172,
     "metadata": {},
     "output_type": "execute_result"
    }
   ],
   "source": [
    "trxbars.drop(columns = ['exchange', 'open', 'high', 'low', 'volume', 'trade_count', 'vwap'], inplace=True)\n",
    "trxbars = trxbars.rename(columns={\n",
    "    \"close\": \"TRX_close\"\n",
    "})\n",
    "trxbars['timestamp'] = trxbars.index.date\n",
    "trxbars = trxbars.set_index(trxbars['timestamp'])\n",
    "trxbars.drop(columns = ['timestamp'], inplace=True)\n",
    "\n",
    "                               \n",
    "trxbars.head()"
   ]
  },
  {
   "cell_type": "code",
   "execution_count": 173,
   "id": "45ae2b0a",
   "metadata": {},
   "outputs": [],
   "source": [
    "unibars = api.get_crypto_bars(\"UNIUSD\", TimeFrame.Day, \"2021-01-25\", \"2022-04-01\").df"
   ]
  },
  {
   "cell_type": "code",
   "execution_count": 174,
   "id": "9c968ab6",
   "metadata": {},
   "outputs": [
    {
     "data": {
      "text/html": [
       "<div>\n",
       "<style scoped>\n",
       "    .dataframe tbody tr th:only-of-type {\n",
       "        vertical-align: middle;\n",
       "    }\n",
       "\n",
       "    .dataframe tbody tr th {\n",
       "        vertical-align: top;\n",
       "    }\n",
       "\n",
       "    .dataframe thead th {\n",
       "        text-align: right;\n",
       "    }\n",
       "</style>\n",
       "<table border=\"1\" class=\"dataframe\">\n",
       "  <thead>\n",
       "    <tr style=\"text-align: right;\">\n",
       "      <th></th>\n",
       "      <th>UNI_close</th>\n",
       "    </tr>\n",
       "    <tr>\n",
       "      <th>timestamp</th>\n",
       "      <th></th>\n",
       "    </tr>\n",
       "  </thead>\n",
       "  <tbody>\n",
       "    <tr>\n",
       "      <th>2021-01-25</th>\n",
       "      <td>12.333</td>\n",
       "    </tr>\n",
       "    <tr>\n",
       "      <th>2021-01-26</th>\n",
       "      <td>13.677</td>\n",
       "    </tr>\n",
       "    <tr>\n",
       "      <th>2021-01-27</th>\n",
       "      <td>14.455</td>\n",
       "    </tr>\n",
       "    <tr>\n",
       "      <th>2021-01-28</th>\n",
       "      <td>14.979</td>\n",
       "    </tr>\n",
       "    <tr>\n",
       "      <th>2021-01-29</th>\n",
       "      <td>15.300</td>\n",
       "    </tr>\n",
       "  </tbody>\n",
       "</table>\n",
       "</div>"
      ],
      "text/plain": [
       "            UNI_close\n",
       "timestamp            \n",
       "2021-01-25     12.333\n",
       "2021-01-26     13.677\n",
       "2021-01-27     14.455\n",
       "2021-01-28     14.979\n",
       "2021-01-29     15.300"
      ]
     },
     "execution_count": 174,
     "metadata": {},
     "output_type": "execute_result"
    }
   ],
   "source": [
    "unibars.drop(columns = ['exchange', 'open', 'high', 'low', 'volume', 'trade_count', 'vwap'], inplace=True)\n",
    "unibars = unibars.rename(columns={\n",
    "    \"close\": \"UNI_close\"\n",
    "})\n",
    "unibars['timestamp'] = unibars.index.date\n",
    "unibars = unibars.set_index(unibars['timestamp'])\n",
    "unibars.drop(columns = ['timestamp'], inplace=True)\n",
    "\n",
    "                               \n",
    "unibars.head()"
   ]
  },
  {
   "cell_type": "code",
   "execution_count": 175,
   "id": "55d2b236",
   "metadata": {},
   "outputs": [],
   "source": [
    "batbars = api.get_crypto_bars(\"BATUSD\", TimeFrame.Day, \"2021-01-25\", \"2022-04-01\").df"
   ]
  },
  {
   "cell_type": "code",
   "execution_count": 176,
   "id": "cb801680",
   "metadata": {},
   "outputs": [
    {
     "data": {
      "text/html": [
       "<div>\n",
       "<style scoped>\n",
       "    .dataframe tbody tr th:only-of-type {\n",
       "        vertical-align: middle;\n",
       "    }\n",
       "\n",
       "    .dataframe tbody tr th {\n",
       "        vertical-align: top;\n",
       "    }\n",
       "\n",
       "    .dataframe thead th {\n",
       "        text-align: right;\n",
       "    }\n",
       "</style>\n",
       "<table border=\"1\" class=\"dataframe\">\n",
       "  <thead>\n",
       "    <tr style=\"text-align: right;\">\n",
       "      <th></th>\n",
       "      <th>BAT_close</th>\n",
       "    </tr>\n",
       "    <tr>\n",
       "      <th>timestamp</th>\n",
       "      <th></th>\n",
       "    </tr>\n",
       "  </thead>\n",
       "  <tbody>\n",
       "    <tr>\n",
       "      <th>2021-01-25</th>\n",
       "      <td>0.296225</td>\n",
       "    </tr>\n",
       "    <tr>\n",
       "      <th>2021-01-26</th>\n",
       "      <td>0.286950</td>\n",
       "    </tr>\n",
       "    <tr>\n",
       "      <th>2021-01-27</th>\n",
       "      <td>0.314525</td>\n",
       "    </tr>\n",
       "    <tr>\n",
       "      <th>2021-01-28</th>\n",
       "      <td>0.294825</td>\n",
       "    </tr>\n",
       "    <tr>\n",
       "      <th>2021-01-29</th>\n",
       "      <td>0.295675</td>\n",
       "    </tr>\n",
       "  </tbody>\n",
       "</table>\n",
       "</div>"
      ],
      "text/plain": [
       "            BAT_close\n",
       "timestamp            \n",
       "2021-01-25   0.296225\n",
       "2021-01-26   0.286950\n",
       "2021-01-27   0.314525\n",
       "2021-01-28   0.294825\n",
       "2021-01-29   0.295675"
      ]
     },
     "execution_count": 176,
     "metadata": {},
     "output_type": "execute_result"
    }
   ],
   "source": [
    "batbars.drop(columns = ['exchange', 'open', 'high', 'low', 'volume', 'trade_count', 'vwap'], inplace=True)\n",
    "batbars = batbars.rename(columns={\n",
    "    \"close\": \"BAT_close\"\n",
    "})\n",
    "batbars['timestamp'] = batbars.index.date\n",
    "batbars = batbars.set_index(batbars['timestamp'])\n",
    "batbars.drop(columns = ['timestamp'], inplace=True)\n",
    "\n",
    "                               \n",
    "batbars.head()"
   ]
  },
  {
   "cell_type": "code",
   "execution_count": 178,
   "id": "94da6fae",
   "metadata": {},
   "outputs": [
    {
     "ename": "InvalidIndexError",
     "evalue": "Reindexing only valid with uniquely valued Index objects",
     "output_type": "error",
     "traceback": [
      "\u001b[0;31m---------------------------------------------------------------------------\u001b[0m",
      "\u001b[0;31mInvalidIndexError\u001b[0m                         Traceback (most recent call last)",
      "Input \u001b[0;32mIn [178]\u001b[0m, in \u001b[0;36m<cell line: 1>\u001b[0;34m()\u001b[0m\n\u001b[0;32m----> 1\u001b[0m crypto_data \u001b[38;5;241m=\u001b[39m \u001b[43mpd\u001b[49m\u001b[38;5;241;43m.\u001b[39;49m\u001b[43mconcat\u001b[49m\u001b[43m(\u001b[49m\u001b[43m[\u001b[49m\u001b[43mbtcbars\u001b[49m\u001b[43m,\u001b[49m\u001b[43m \u001b[49m\u001b[43methbars\u001b[49m\u001b[43m,\u001b[49m\u001b[43m \u001b[49m\u001b[43msolbars\u001b[49m\u001b[43m,\u001b[49m\u001b[43m \u001b[49m\u001b[43mavaxbars\u001b[49m\u001b[43m,\u001b[49m\u001b[43m \u001b[49m\u001b[43mdogebars\u001b[49m\u001b[43m,\u001b[49m\u001b[43m \u001b[49m\u001b[43mlinkbars\u001b[49m\u001b[43m,\u001b[49m\u001b[43m \u001b[49m\u001b[43mltcbars\u001b[49m\u001b[43m,\u001b[49m\u001b[43m \u001b[49m\u001b[43mmaticbars\u001b[49m\u001b[43m,\u001b[49m\u001b[43m \u001b[49m\u001b[43maavebars\u001b[49m\u001b[43m]\u001b[49m\u001b[43m,\u001b[49m\u001b[43m \u001b[49m\u001b[43maxis\u001b[49m\u001b[38;5;241;43m=\u001b[39;49m\u001b[38;5;124;43m\"\u001b[39;49m\u001b[38;5;124;43mcolumns\u001b[39;49m\u001b[38;5;124;43m\"\u001b[39;49m\u001b[43m,\u001b[49m\u001b[43m \u001b[49m\u001b[43mjoin\u001b[49m\u001b[38;5;241;43m=\u001b[39;49m\u001b[38;5;124;43m\"\u001b[39;49m\u001b[38;5;124;43minner\u001b[39;49m\u001b[38;5;124;43m\"\u001b[39;49m\u001b[43m)\u001b[49m\n\u001b[1;32m      2\u001b[0m crypto_data\u001b[38;5;241m.\u001b[39mhead()\n",
      "File \u001b[0;32m/opt/anaconda3/lib/python3.9/site-packages/pandas/util/_decorators.py:311\u001b[0m, in \u001b[0;36mdeprecate_nonkeyword_arguments.<locals>.decorate.<locals>.wrapper\u001b[0;34m(*args, **kwargs)\u001b[0m\n\u001b[1;32m    305\u001b[0m \u001b[38;5;28;01mif\u001b[39;00m \u001b[38;5;28mlen\u001b[39m(args) \u001b[38;5;241m>\u001b[39m num_allow_args:\n\u001b[1;32m    306\u001b[0m     warnings\u001b[38;5;241m.\u001b[39mwarn(\n\u001b[1;32m    307\u001b[0m         msg\u001b[38;5;241m.\u001b[39mformat(arguments\u001b[38;5;241m=\u001b[39marguments),\n\u001b[1;32m    308\u001b[0m         \u001b[38;5;167;01mFutureWarning\u001b[39;00m,\n\u001b[1;32m    309\u001b[0m         stacklevel\u001b[38;5;241m=\u001b[39mstacklevel,\n\u001b[1;32m    310\u001b[0m     )\n\u001b[0;32m--> 311\u001b[0m \u001b[38;5;28;01mreturn\u001b[39;00m \u001b[43mfunc\u001b[49m\u001b[43m(\u001b[49m\u001b[38;5;241;43m*\u001b[39;49m\u001b[43margs\u001b[49m\u001b[43m,\u001b[49m\u001b[43m \u001b[49m\u001b[38;5;241;43m*\u001b[39;49m\u001b[38;5;241;43m*\u001b[39;49m\u001b[43mkwargs\u001b[49m\u001b[43m)\u001b[49m\n",
      "File \u001b[0;32m/opt/anaconda3/lib/python3.9/site-packages/pandas/core/reshape/concat.py:359\u001b[0m, in \u001b[0;36mconcat\u001b[0;34m(objs, axis, join, ignore_index, keys, levels, names, verify_integrity, sort, copy)\u001b[0m\n\u001b[1;32m    155\u001b[0m \u001b[38;5;124;03m\"\"\"\u001b[39;00m\n\u001b[1;32m    156\u001b[0m \u001b[38;5;124;03mConcatenate pandas objects along a particular axis with optional set logic\u001b[39;00m\n\u001b[1;32m    157\u001b[0m \u001b[38;5;124;03malong the other axes.\u001b[39;00m\n\u001b[0;32m   (...)\u001b[0m\n\u001b[1;32m    344\u001b[0m \u001b[38;5;124;03mValueError: Indexes have overlapping values: ['a']\u001b[39;00m\n\u001b[1;32m    345\u001b[0m \u001b[38;5;124;03m\"\"\"\u001b[39;00m\n\u001b[1;32m    346\u001b[0m op \u001b[38;5;241m=\u001b[39m _Concatenator(\n\u001b[1;32m    347\u001b[0m     objs,\n\u001b[1;32m    348\u001b[0m     axis\u001b[38;5;241m=\u001b[39maxis,\n\u001b[0;32m   (...)\u001b[0m\n\u001b[1;32m    356\u001b[0m     sort\u001b[38;5;241m=\u001b[39msort,\n\u001b[1;32m    357\u001b[0m )\n\u001b[0;32m--> 359\u001b[0m \u001b[38;5;28;01mreturn\u001b[39;00m \u001b[43mop\u001b[49m\u001b[38;5;241;43m.\u001b[39;49m\u001b[43mget_result\u001b[49m\u001b[43m(\u001b[49m\u001b[43m)\u001b[49m\n",
      "File \u001b[0;32m/opt/anaconda3/lib/python3.9/site-packages/pandas/core/reshape/concat.py:588\u001b[0m, in \u001b[0;36m_Concatenator.get_result\u001b[0;34m(self)\u001b[0m\n\u001b[1;32m    586\u001b[0m         obj_labels \u001b[38;5;241m=\u001b[39m obj\u001b[38;5;241m.\u001b[39maxes[\u001b[38;5;241m1\u001b[39m \u001b[38;5;241m-\u001b[39m ax]\n\u001b[1;32m    587\u001b[0m         \u001b[38;5;28;01mif\u001b[39;00m \u001b[38;5;129;01mnot\u001b[39;00m new_labels\u001b[38;5;241m.\u001b[39mequals(obj_labels):\n\u001b[0;32m--> 588\u001b[0m             indexers[ax] \u001b[38;5;241m=\u001b[39m \u001b[43mobj_labels\u001b[49m\u001b[38;5;241;43m.\u001b[39;49m\u001b[43mget_indexer\u001b[49m\u001b[43m(\u001b[49m\u001b[43mnew_labels\u001b[49m\u001b[43m)\u001b[49m\n\u001b[1;32m    590\u001b[0m     mgrs_indexers\u001b[38;5;241m.\u001b[39mappend((obj\u001b[38;5;241m.\u001b[39m_mgr, indexers))\n\u001b[1;32m    592\u001b[0m new_data \u001b[38;5;241m=\u001b[39m concatenate_managers(\n\u001b[1;32m    593\u001b[0m     mgrs_indexers, \u001b[38;5;28mself\u001b[39m\u001b[38;5;241m.\u001b[39mnew_axes, concat_axis\u001b[38;5;241m=\u001b[39m\u001b[38;5;28mself\u001b[39m\u001b[38;5;241m.\u001b[39mbm_axis, copy\u001b[38;5;241m=\u001b[39m\u001b[38;5;28mself\u001b[39m\u001b[38;5;241m.\u001b[39mcopy\n\u001b[1;32m    594\u001b[0m )\n",
      "File \u001b[0;32m/opt/anaconda3/lib/python3.9/site-packages/pandas/core/indexes/base.py:3721\u001b[0m, in \u001b[0;36mIndex.get_indexer\u001b[0;34m(self, target, method, limit, tolerance)\u001b[0m\n\u001b[1;32m   3718\u001b[0m \u001b[38;5;28mself\u001b[39m\u001b[38;5;241m.\u001b[39m_check_indexing_method(method, limit, tolerance)\n\u001b[1;32m   3720\u001b[0m \u001b[38;5;28;01mif\u001b[39;00m \u001b[38;5;129;01mnot\u001b[39;00m \u001b[38;5;28mself\u001b[39m\u001b[38;5;241m.\u001b[39m_index_as_unique:\n\u001b[0;32m-> 3721\u001b[0m     \u001b[38;5;28;01mraise\u001b[39;00m InvalidIndexError(\u001b[38;5;28mself\u001b[39m\u001b[38;5;241m.\u001b[39m_requires_unique_msg)\n\u001b[1;32m   3723\u001b[0m \u001b[38;5;28;01mif\u001b[39;00m \u001b[38;5;28mlen\u001b[39m(target) \u001b[38;5;241m==\u001b[39m \u001b[38;5;241m0\u001b[39m:\n\u001b[1;32m   3724\u001b[0m     \u001b[38;5;28;01mreturn\u001b[39;00m np\u001b[38;5;241m.\u001b[39marray([], dtype\u001b[38;5;241m=\u001b[39mnp\u001b[38;5;241m.\u001b[39mintp)\n",
      "\u001b[0;31mInvalidIndexError\u001b[0m: Reindexing only valid with uniquely valued Index objects"
     ]
    }
   ],
   "source": [
    "crypto_data = pd.concat([btcbars, ethbars, solbars, avaxbars, dogebars, linkbars, ltcbars, maticbars, aavebars], axis=\"columns\", join=\"inner\")\n",
    "crypto_data.head()"
   ]
  },
  {
   "cell_type": "code",
   "execution_count": null,
   "id": "520a1a28",
   "metadata": {},
   "outputs": [],
   "source": [
    "start_date = pd.Timestamp(\"2020-04-05\", tz=\"America/New_York\").isoformat()\n",
    "end_date = pd.Timestamp(\"2022-04-05\", tz=\"America/New_York\").isoformat()\n",
    "\n",
    "# Set the tickers\n",
    "tickers = [\"BTCUSD\", \"ETHUSD\"]\n",
    "\n",
    "# Set timeframe to '1D' for Alpaca API\n",
    "timeframe = \"1Day\"\n",
    "\n",
    "# Get current closing prices for SPY and AGG\n",
    "# (use a limit=1000 parameter to call the most recent 1000 days of data)\n",
    "df_ticker = api.get_bars(\n",
    "    tickers,\n",
    "    timeframe,\n",
    "    start=start_date,\n",
    "    end=end_date,\n",
    "    limit = 1000\n",
    ").df\n",
    "\n",
    "# Preview DataFrame\n",
    "df_ticker.head()"
   ]
  },
  {
   "cell_type": "code",
   "execution_count": null,
   "id": "a723a517",
   "metadata": {},
   "outputs": [],
   "source": []
  },
  {
   "cell_type": "code",
   "execution_count": null,
   "id": "c6e15dfa",
   "metadata": {},
   "outputs": [],
   "source": []
  },
  {
   "cell_type": "code",
   "execution_count": null,
   "id": "d0a8836a",
   "metadata": {},
   "outputs": [],
   "source": []
  }
 ],
 "metadata": {
  "kernelspec": {
   "display_name": "Python 3 (ipykernel)",
   "language": "python",
   "name": "python3"
  },
  "language_info": {
   "codemirror_mode": {
    "name": "ipython",
    "version": 3
   },
   "file_extension": ".py",
   "mimetype": "text/x-python",
   "name": "python",
   "nbconvert_exporter": "python",
   "pygments_lexer": "ipython3",
   "version": "3.9.7"
  }
 },
 "nbformat": 4,
 "nbformat_minor": 5
}
